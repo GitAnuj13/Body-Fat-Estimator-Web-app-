{
 "cells": [
  {
   "cell_type": "code",
   "execution_count": 99,
   "id": "9d35904a",
   "metadata": {},
   "outputs": [],
   "source": [
    "import pandas as pd\n",
    "import numpy as np\n",
    "from sklearn.linear_model import LinearRegression\n",
    "import seaborn as sns\n",
    "import matplotlib.pyplot as plt\n",
    "from sklearn.model_selection import train_test_split\n",
    "from sklearn.metrics import r2_score,mean_squared_error"
   ]
  },
  {
   "cell_type": "code",
   "execution_count": 19,
   "id": "557de749",
   "metadata": {},
   "outputs": [],
   "source": [
    "df=pd.read_csv(\"body_fat.csv\")\n"
   ]
  },
  {
   "cell_type": "code",
   "execution_count": 33,
   "id": "e0b9639a",
   "metadata": {},
   "outputs": [
    {
     "data": {
      "text/plain": [
       "array([ 69.95464853,  78.57142857,  69.84126984,  83.78684807,\n",
       "        83.5600907 ,  95.35147392,  82.0861678 ,  79.8185941 ,\n",
       "        86.62131519,  89.90929705,  84.46712018,  97.95918367,\n",
       "        81.85941043,  93.08390023,  85.14739229,  73.80952381,\n",
       "        88.7755102 ,  94.89795918,  83.33333333,  96.03174603,\n",
       "        81.17913832,  90.92970522,  63.60544218,  67.46031746,\n",
       "        68.59410431,  72.22222222,  59.63718821,  67.12018141,\n",
       "        60.430839  ,  72.90249433,  82.53968254,  72.67573696,\n",
       "        76.19047619,  99.09297052, 112.13151927,  86.96145125,\n",
       "        91.72335601,  89.22902494, 164.69387755,  92.06349206,\n",
       "       119.16099773,  92.97052154,  98.41269841,  96.14512472,\n",
       "        56.80272109,  74.48979592,  60.54421769,  67.34693878,\n",
       "        61.56462585,  57.82312925,  71.76870748,  63.15192744,\n",
       "        62.24489796,  69.27437642,  61.79138322,  89.79591837,\n",
       "        82.31292517,  91.26984127,  91.83673469,  81.51927438,\n",
       "        81.06575964,  87.64172336,  80.72562358,  93.19727891,\n",
       "        83.21995465,  68.70748299,  70.1814059 ,  70.40816327,\n",
       "        71.08843537,  75.96371882,  66.55328798,  56.6893424 ,\n",
       "        64.85260771,  67.23356009,  73.69614512,  80.6122449 ,\n",
       "        73.1292517 ,  77.66439909,  74.26303855,  68.14058957,\n",
       "        86.28117914,  77.43764172,  75.73696145,  71.54195011,\n",
       "        72.56235828,  80.15873016,  80.27210884,  74.94331066,\n",
       "        87.3015873 , 101.81405896,  85.60090703,  70.97505669,\n",
       "        89.34240363,  90.02267574,  78.79818594,  78.3446712 ,\n",
       "        75.05668934,  90.81632653,  92.17687075,  87.98185941,\n",
       "        76.41723356,  83.10657596,  80.83900227,  73.92290249,\n",
       "        79.47845805,  71.6553288 ,  80.38548753,  85.03401361,\n",
       "        93.65079365,  84.01360544,  73.01587302,  80.49886621,\n",
       "        69.04761905,  87.18820862,  77.89115646,  71.20181406,\n",
       "        76.30385488,  84.3537415 ,  75.62358277,  96.48526077,\n",
       "        72.44897959,  85.32879819,  70.74829932,  94.55782313,\n",
       "        65.19274376, 101.13378685, 109.63718821,  66.21315193,\n",
       "        77.77777778,  93.3106576 ,  82.76643991,  61.9047619 ,\n",
       "        88.88888889,  63.49206349,  99.20634921,  75.3968254 ,\n",
       "       101.92743764, 103.51473923,  57.02947846,  79.93197279,\n",
       "       102.83446712,  65.87301587,  68.48072562, 109.41043084,\n",
       "        84.92063492, 106.46258503,  99.43310658,  53.7414966 ,\n",
       "        66.09977324,  77.32426304, 105.55555556,  95.46485261,\n",
       "        83.90022676,  69.3877551 , 110.77097506,  87.75510204,\n",
       "        81.63265306,  70.861678  ,  75.85034014,  68.02721088,\n",
       "        83.44671202,  94.67120181,  75.28344671,  88.43537415,\n",
       "        72.78911565,  63.71882086,  98.07256236,  88.32199546,\n",
       "        99.31972789,  67.68707483,  70.06802721,  90.36281179,\n",
       "        69.50113379, 104.30839002,  73.35600907,  64.51247166,\n",
       "        57.36961451,  76.8707483 ,  79.138322  ,  76.07709751,\n",
       "        67.00680272,  82.65306122,  79.59183673,  76.53061224,\n",
       "        86.84807256,  99.3877551 ,  86.05442177, 106.23582766,\n",
       "       103.28798186,  90.47619048,  70.52154195,  97.7324263 ,\n",
       "        60.88435374,  91.15646259,  84.69387755,  86.50793651,\n",
       "        94.10430839])"
      ]
     },
     "execution_count": 33,
     "metadata": {},
     "output_type": "execute_result"
    }
   ],
   "source": [
    "df[\"Weight in kg\"].unique()"
   ]
  },
  {
   "cell_type": "code",
   "execution_count": 3,
   "id": "e3eff301",
   "metadata": {},
   "outputs": [
    {
     "data": {
      "text/html": [
       "<div>\n",
       "<style scoped>\n",
       "    .dataframe tbody tr th:only-of-type {\n",
       "        vertical-align: middle;\n",
       "    }\n",
       "\n",
       "    .dataframe tbody tr th {\n",
       "        vertical-align: top;\n",
       "    }\n",
       "\n",
       "    .dataframe thead th {\n",
       "        text-align: right;\n",
       "    }\n",
       "</style>\n",
       "<table border=\"1\" class=\"dataframe\">\n",
       "  <thead>\n",
       "    <tr style=\"text-align: right;\">\n",
       "      <th></th>\n",
       "      <th>Density</th>\n",
       "      <th>BodyFat</th>\n",
       "      <th>Age</th>\n",
       "      <th>Weight</th>\n",
       "      <th>Height</th>\n",
       "      <th>Neck</th>\n",
       "      <th>Chest</th>\n",
       "      <th>Abdomen</th>\n",
       "      <th>Hip</th>\n",
       "      <th>Thigh</th>\n",
       "      <th>Knee</th>\n",
       "      <th>Ankle</th>\n",
       "      <th>Biceps</th>\n",
       "      <th>Forearm</th>\n",
       "      <th>Wrist</th>\n",
       "    </tr>\n",
       "  </thead>\n",
       "  <tbody>\n",
       "    <tr>\n",
       "      <th>0</th>\n",
       "      <td>1.0708</td>\n",
       "      <td>12.3</td>\n",
       "      <td>23</td>\n",
       "      <td>154.25</td>\n",
       "      <td>67.75</td>\n",
       "      <td>36.2</td>\n",
       "      <td>93.1</td>\n",
       "      <td>85.2</td>\n",
       "      <td>94.5</td>\n",
       "      <td>59.0</td>\n",
       "      <td>37.3</td>\n",
       "      <td>21.9</td>\n",
       "      <td>32.0</td>\n",
       "      <td>27.4</td>\n",
       "      <td>17.1</td>\n",
       "    </tr>\n",
       "    <tr>\n",
       "      <th>1</th>\n",
       "      <td>1.0853</td>\n",
       "      <td>6.1</td>\n",
       "      <td>22</td>\n",
       "      <td>173.25</td>\n",
       "      <td>72.25</td>\n",
       "      <td>38.5</td>\n",
       "      <td>93.6</td>\n",
       "      <td>83.0</td>\n",
       "      <td>98.7</td>\n",
       "      <td>58.7</td>\n",
       "      <td>37.3</td>\n",
       "      <td>23.4</td>\n",
       "      <td>30.5</td>\n",
       "      <td>28.9</td>\n",
       "      <td>18.2</td>\n",
       "    </tr>\n",
       "    <tr>\n",
       "      <th>2</th>\n",
       "      <td>1.0414</td>\n",
       "      <td>25.3</td>\n",
       "      <td>22</td>\n",
       "      <td>154.00</td>\n",
       "      <td>66.25</td>\n",
       "      <td>34.0</td>\n",
       "      <td>95.8</td>\n",
       "      <td>87.9</td>\n",
       "      <td>99.2</td>\n",
       "      <td>59.6</td>\n",
       "      <td>38.9</td>\n",
       "      <td>24.0</td>\n",
       "      <td>28.8</td>\n",
       "      <td>25.2</td>\n",
       "      <td>16.6</td>\n",
       "    </tr>\n",
       "    <tr>\n",
       "      <th>3</th>\n",
       "      <td>1.0751</td>\n",
       "      <td>10.4</td>\n",
       "      <td>26</td>\n",
       "      <td>184.75</td>\n",
       "      <td>72.25</td>\n",
       "      <td>37.4</td>\n",
       "      <td>101.8</td>\n",
       "      <td>86.4</td>\n",
       "      <td>101.2</td>\n",
       "      <td>60.1</td>\n",
       "      <td>37.3</td>\n",
       "      <td>22.8</td>\n",
       "      <td>32.4</td>\n",
       "      <td>29.4</td>\n",
       "      <td>18.2</td>\n",
       "    </tr>\n",
       "    <tr>\n",
       "      <th>4</th>\n",
       "      <td>1.0340</td>\n",
       "      <td>28.7</td>\n",
       "      <td>24</td>\n",
       "      <td>184.25</td>\n",
       "      <td>71.25</td>\n",
       "      <td>34.4</td>\n",
       "      <td>97.3</td>\n",
       "      <td>100.0</td>\n",
       "      <td>101.9</td>\n",
       "      <td>63.2</td>\n",
       "      <td>42.2</td>\n",
       "      <td>24.0</td>\n",
       "      <td>32.2</td>\n",
       "      <td>27.7</td>\n",
       "      <td>17.7</td>\n",
       "    </tr>\n",
       "    <tr>\n",
       "      <th>...</th>\n",
       "      <td>...</td>\n",
       "      <td>...</td>\n",
       "      <td>...</td>\n",
       "      <td>...</td>\n",
       "      <td>...</td>\n",
       "      <td>...</td>\n",
       "      <td>...</td>\n",
       "      <td>...</td>\n",
       "      <td>...</td>\n",
       "      <td>...</td>\n",
       "      <td>...</td>\n",
       "      <td>...</td>\n",
       "      <td>...</td>\n",
       "      <td>...</td>\n",
       "      <td>...</td>\n",
       "    </tr>\n",
       "    <tr>\n",
       "      <th>247</th>\n",
       "      <td>1.0736</td>\n",
       "      <td>11.0</td>\n",
       "      <td>70</td>\n",
       "      <td>134.25</td>\n",
       "      <td>67.00</td>\n",
       "      <td>34.9</td>\n",
       "      <td>89.2</td>\n",
       "      <td>83.6</td>\n",
       "      <td>88.8</td>\n",
       "      <td>49.6</td>\n",
       "      <td>34.8</td>\n",
       "      <td>21.5</td>\n",
       "      <td>25.6</td>\n",
       "      <td>25.7</td>\n",
       "      <td>18.5</td>\n",
       "    </tr>\n",
       "    <tr>\n",
       "      <th>248</th>\n",
       "      <td>1.0236</td>\n",
       "      <td>33.6</td>\n",
       "      <td>72</td>\n",
       "      <td>201.00</td>\n",
       "      <td>69.75</td>\n",
       "      <td>40.9</td>\n",
       "      <td>108.5</td>\n",
       "      <td>105.0</td>\n",
       "      <td>104.5</td>\n",
       "      <td>59.6</td>\n",
       "      <td>40.8</td>\n",
       "      <td>23.2</td>\n",
       "      <td>35.2</td>\n",
       "      <td>28.6</td>\n",
       "      <td>20.1</td>\n",
       "    </tr>\n",
       "    <tr>\n",
       "      <th>249</th>\n",
       "      <td>1.0328</td>\n",
       "      <td>29.3</td>\n",
       "      <td>72</td>\n",
       "      <td>186.75</td>\n",
       "      <td>66.00</td>\n",
       "      <td>38.9</td>\n",
       "      <td>111.1</td>\n",
       "      <td>111.5</td>\n",
       "      <td>101.7</td>\n",
       "      <td>60.3</td>\n",
       "      <td>37.3</td>\n",
       "      <td>21.5</td>\n",
       "      <td>31.3</td>\n",
       "      <td>27.2</td>\n",
       "      <td>18.0</td>\n",
       "    </tr>\n",
       "    <tr>\n",
       "      <th>250</th>\n",
       "      <td>1.0399</td>\n",
       "      <td>26.0</td>\n",
       "      <td>72</td>\n",
       "      <td>190.75</td>\n",
       "      <td>70.50</td>\n",
       "      <td>38.9</td>\n",
       "      <td>108.3</td>\n",
       "      <td>101.3</td>\n",
       "      <td>97.8</td>\n",
       "      <td>56.0</td>\n",
       "      <td>41.6</td>\n",
       "      <td>22.7</td>\n",
       "      <td>30.5</td>\n",
       "      <td>29.4</td>\n",
       "      <td>19.8</td>\n",
       "    </tr>\n",
       "    <tr>\n",
       "      <th>251</th>\n",
       "      <td>1.0271</td>\n",
       "      <td>31.9</td>\n",
       "      <td>74</td>\n",
       "      <td>207.50</td>\n",
       "      <td>70.00</td>\n",
       "      <td>40.8</td>\n",
       "      <td>112.4</td>\n",
       "      <td>108.5</td>\n",
       "      <td>107.1</td>\n",
       "      <td>59.3</td>\n",
       "      <td>42.2</td>\n",
       "      <td>24.6</td>\n",
       "      <td>33.7</td>\n",
       "      <td>30.0</td>\n",
       "      <td>20.9</td>\n",
       "    </tr>\n",
       "  </tbody>\n",
       "</table>\n",
       "<p>252 rows × 15 columns</p>\n",
       "</div>"
      ],
      "text/plain": [
       "     Density  BodyFat  Age  Weight  Height  Neck  Chest  Abdomen    Hip  \\\n",
       "0     1.0708     12.3   23  154.25   67.75  36.2   93.1     85.2   94.5   \n",
       "1     1.0853      6.1   22  173.25   72.25  38.5   93.6     83.0   98.7   \n",
       "2     1.0414     25.3   22  154.00   66.25  34.0   95.8     87.9   99.2   \n",
       "3     1.0751     10.4   26  184.75   72.25  37.4  101.8     86.4  101.2   \n",
       "4     1.0340     28.7   24  184.25   71.25  34.4   97.3    100.0  101.9   \n",
       "..       ...      ...  ...     ...     ...   ...    ...      ...    ...   \n",
       "247   1.0736     11.0   70  134.25   67.00  34.9   89.2     83.6   88.8   \n",
       "248   1.0236     33.6   72  201.00   69.75  40.9  108.5    105.0  104.5   \n",
       "249   1.0328     29.3   72  186.75   66.00  38.9  111.1    111.5  101.7   \n",
       "250   1.0399     26.0   72  190.75   70.50  38.9  108.3    101.3   97.8   \n",
       "251   1.0271     31.9   74  207.50   70.00  40.8  112.4    108.5  107.1   \n",
       "\n",
       "     Thigh  Knee  Ankle  Biceps  Forearm  Wrist  \n",
       "0     59.0  37.3   21.9    32.0     27.4   17.1  \n",
       "1     58.7  37.3   23.4    30.5     28.9   18.2  \n",
       "2     59.6  38.9   24.0    28.8     25.2   16.6  \n",
       "3     60.1  37.3   22.8    32.4     29.4   18.2  \n",
       "4     63.2  42.2   24.0    32.2     27.7   17.7  \n",
       "..     ...   ...    ...     ...      ...    ...  \n",
       "247   49.6  34.8   21.5    25.6     25.7   18.5  \n",
       "248   59.6  40.8   23.2    35.2     28.6   20.1  \n",
       "249   60.3  37.3   21.5    31.3     27.2   18.0  \n",
       "250   56.0  41.6   22.7    30.5     29.4   19.8  \n",
       "251   59.3  42.2   24.6    33.7     30.0   20.9  \n",
       "\n",
       "[252 rows x 15 columns]"
      ]
     },
     "execution_count": 3,
     "metadata": {},
     "output_type": "execute_result"
    }
   ],
   "source": [
    "df"
   ]
  },
  {
   "cell_type": "code",
   "execution_count": 22,
   "id": "3e894956",
   "metadata": {},
   "outputs": [],
   "source": [
    "df[\"Height in m\"]=df[\"Height\"]/39.37"
   ]
  },
  {
   "cell_type": "code",
   "execution_count": 23,
   "id": "e5dabe28",
   "metadata": {},
   "outputs": [],
   "source": [
    "df[\"Weight in kg\"]=df[\"Weight\"]/2.205"
   ]
  },
  {
   "cell_type": "code",
   "execution_count": 24,
   "id": "1d9caeb0",
   "metadata": {},
   "outputs": [],
   "source": [
    "df[\"BMI\"]=df[\"Weight in kg\"]/(df[\"Height in m\"]**2)"
   ]
  },
  {
   "cell_type": "code",
   "execution_count": 120,
   "id": "3297f385",
   "metadata": {},
   "outputs": [],
   "source": [
    "df1=df.copy(deep=True)"
   ]
  },
  {
   "cell_type": "code",
   "execution_count": 95,
   "id": "6f106ab6",
   "metadata": {},
   "outputs": [],
   "source": [
    "df1=df1.drop([\"Weight\",\"Height\",\"Height in m\",\"Weight in kg\"],axis=1)\n"
   ]
  },
  {
   "cell_type": "code",
   "execution_count": 67,
   "id": "b8c249f9",
   "metadata": {},
   "outputs": [
    {
     "data": {
      "text/plain": [
       "Density   -0.987782\n",
       "BodyFat    1.000000\n",
       "Age        0.291458\n",
       "Neck       0.490592\n",
       "Chest      0.702620\n",
       "Abdomen    0.813432\n",
       "Hip        0.625201\n",
       "Thigh      0.559608\n",
       "Knee       0.508665\n",
       "Ankle      0.265970\n",
       "Biceps     0.493271\n",
       "Forearm    0.361387\n",
       "Wrist      0.346575\n",
       "BMI        0.371395\n",
       "Name: BodyFat, dtype: float64"
      ]
     },
     "execution_count": 67,
     "metadata": {},
     "output_type": "execute_result"
    }
   ],
   "source": [
    "df1.corr()[\"BodyFat\"]"
   ]
  },
  {
   "cell_type": "code",
   "execution_count": 68,
   "id": "55fe8c05",
   "metadata": {},
   "outputs": [
    {
     "data": {
      "text/plain": [
       "Density    0\n",
       "BodyFat    0\n",
       "Age        0\n",
       "Neck       0\n",
       "Chest      0\n",
       "Abdomen    0\n",
       "Hip        0\n",
       "Thigh      0\n",
       "Knee       0\n",
       "Ankle      0\n",
       "Biceps     0\n",
       "Forearm    0\n",
       "Wrist      0\n",
       "BMI        0\n",
       "dtype: int64"
      ]
     },
     "execution_count": 68,
     "metadata": {},
     "output_type": "execute_result"
    }
   ],
   "source": [
    "df1.isnull().sum()"
   ]
  },
  {
   "cell_type": "code",
   "execution_count": 69,
   "id": "58b631e5",
   "metadata": {},
   "outputs": [
    {
     "data": {
      "image/png": "[encoded data removed]",
      "text/plain": [
       "<Figure size 1200x600 with 2 Axes>"
      ]
     },
     "metadata": {},
     "output_type": "display_data"
    }
   ],
   "source": [
    "plt.figure(figsize=(12,6))\n",
    "sns.heatmap(df1.corr(),annot=True)\n",
    "plt.show()"
   ]
  },
  {
   "cell_type": "code",
   "execution_count": 70,
   "id": "25a84a54",
   "metadata": {},
   "outputs": [
    {
     "name": "stderr",
     "output_type": "stream",
     "text": [
      "D:\\Users\\Anuj\\anaconda3\\lib\\site-packages\\seaborn\\distributions.py:2619: FutureWarning: `distplot` is a deprecated function and will be removed in a future version. Please adapt your code to use either `displot` (a figure-level function with similar flexibility) or `histplot` (an axes-level function for histograms).\n",
      "  warnings.warn(msg, FutureWarning)\n"
     ]
    },
    {
     "data": {
      "text/plain": [
       "<AxesSubplot:xlabel='BodyFat', ylabel='Density'>"
      ]
     },
     "execution_count": 70,
     "metadata": {},
     "output_type": "execute_result"
    },
    {
     "data": {
      "image/png": "[encoded data removed]",
      "text/plain": [
       "<Figure size 640x480 with 1 Axes>"
      ]
     },
     "metadata": {},
     "output_type": "display_data"
    }
   ],
   "source": [
    "#Lets check the distribution of the target column\n",
    "sns.distplot(df1[\"BodyFat\"])\n",
    "# Distribution is near to normally distributed"
   ]
  },
  {
   "cell_type": "code",
   "execution_count": 72,
   "id": "ba194c43",
   "metadata": {},
   "outputs": [
    {
     "data": {
      "text/plain": [
       "Density    -0.020176\n",
       "BodyFat     0.146353\n",
       "Age         0.283521\n",
       "Neck        0.552620\n",
       "Chest       0.681556\n",
       "Abdomen     0.838418\n",
       "Hip         1.497127\n",
       "Thigh       0.821210\n",
       "Knee        0.516744\n",
       "Ankle       2.255134\n",
       "Biceps      0.285530\n",
       "Forearm    -0.219333\n",
       "Wrist       0.281614\n",
       "BMI        12.592566\n",
       "dtype: float64"
      ]
     },
     "execution_count": 72,
     "metadata": {},
     "output_type": "execute_result"
    }
   ],
   "source": [
    "#Lets Check skewness also\n",
    "df1.skew()"
   ]
  },
  {
   "cell_type": "code",
   "execution_count": null,
   "id": "5f9b53e1",
   "metadata": {},
   "outputs": [],
   "source": [
    "# lets apply feature Selection techniques \n",
    "# VIF actually finds if there is any multicollinearity or not"
   ]
  },
  {
   "cell_type": "code",
   "execution_count": 73,
   "id": "a5b6f3ea",
   "metadata": {},
   "outputs": [],
   "source": [
    "df_vif=df1.drop(\"BodyFat\",axis=1)\n"
   ]
  },
  {
   "cell_type": "code",
   "execution_count": 74,
   "id": "257b604c",
   "metadata": {},
   "outputs": [
    {
     "name": "stdout",
     "output_type": "stream",
     "text": [
      "   Variable          VIF\n",
      "0   Density   573.165533\n",
      "1       Age    27.636990\n",
      "2      Neck   977.881109\n",
      "3     Chest  1147.395586\n",
      "4   Abdomen   988.570296\n",
      "5       Hip  2177.875708\n",
      "6     Thigh   979.609219\n",
      "7      Knee  1054.546456\n",
      "8     Ankle   345.167874\n",
      "9    Biceps   406.830031\n",
      "10  Forearm   440.443559\n",
      "11    Wrist  1273.013156\n",
      "12      BMI    11.343064\n"
     ]
    }
   ],
   "source": [
    "from statsmodels.stats.outliers_influence import variance_inflation_factor\n",
    "vif = pd.DataFrame()\n",
    "vif[\"Variable\"] = df_vif.columns\n",
    "vif[\"VIF\"] = [variance_inflation_factor(df_vif, i) for i in range(df_vif.shape[1])]\n",
    "\n",
    "# Print the VIF values\n",
    "print(vif)"
   ]
  },
  {
   "cell_type": "code",
   "execution_count": 75,
   "id": "07d3a52a",
   "metadata": {},
   "outputs": [],
   "source": [
    "df_vif=df_vif.drop(\"Hip\",axis=1)"
   ]
  },
  {
   "cell_type": "code",
   "execution_count": 76,
   "id": "a9285114",
   "metadata": {},
   "outputs": [
    {
     "name": "stdout",
     "output_type": "stream",
     "text": [
      "   Variable          VIF\n",
      "0   Density   483.794579\n",
      "1       Age    25.893455\n",
      "2      Neck   977.198932\n",
      "3     Chest  1146.393892\n",
      "4   Abdomen   773.711687\n",
      "5     Thigh   815.653464\n",
      "6      Knee  1005.766272\n",
      "7     Ankle   344.040405\n",
      "8    Biceps   406.329811\n",
      "9   Forearm   435.884629\n",
      "10    Wrist  1259.167245\n",
      "11      BMI    10.985991\n"
     ]
    }
   ],
   "source": [
    "from statsmodels.stats.outliers_influence import variance_inflation_factor\n",
    "vif = pd.DataFrame()\n",
    "vif[\"Variable\"] = df_vif.columns\n",
    "vif[\"VIF\"] = [variance_inflation_factor(df_vif, i) for i in range(df_vif.shape[1])]\n",
    "\n",
    "# Print the VIF values\n",
    "print(vif)"
   ]
  },
  {
   "cell_type": "code",
   "execution_count": 77,
   "id": "402d0d40",
   "metadata": {},
   "outputs": [],
   "source": [
    "df_vif=df_vif.drop([\"Chest\",\"Wrist\"],axis=1)"
   ]
  },
  {
   "cell_type": "code",
   "execution_count": 78,
   "id": "9e611392",
   "metadata": {},
   "outputs": [
    {
     "name": "stdout",
     "output_type": "stream",
     "text": [
      "  Variable         VIF\n",
      "0  Density  406.365274\n",
      "1      Age   23.777902\n",
      "2     Neck  831.394345\n",
      "3  Abdomen  397.519059\n",
      "4    Thigh  798.001357\n",
      "5     Knee  972.499711\n",
      "6    Ankle  313.978625\n",
      "7   Biceps  390.369626\n",
      "8  Forearm  413.945774\n",
      "9      BMI   10.857703\n"
     ]
    }
   ],
   "source": [
    "from statsmodels.stats.outliers_influence import variance_inflation_factor\n",
    "vif = pd.DataFrame()\n",
    "vif[\"Variable\"] = df_vif.columns\n",
    "vif[\"VIF\"] = [variance_inflation_factor(df_vif, i) for i in range(df_vif.shape[1])]\n",
    "\n",
    "# Print the VIF values\n",
    "print(vif)"
   ]
  },
  {
   "cell_type": "code",
   "execution_count": 79,
   "id": "c7676066",
   "metadata": {},
   "outputs": [],
   "source": [
    "df_vif=df_vif.drop([\"Knee\",\"Neck\"],axis=1)"
   ]
  },
  {
   "cell_type": "code",
   "execution_count": 80,
   "id": "4e3590b8",
   "metadata": {},
   "outputs": [
    {
     "name": "stdout",
     "output_type": "stream",
     "text": [
      "  Variable         VIF\n",
      "0  Density  287.938928\n",
      "1      Age   22.696620\n",
      "2  Abdomen  332.787386\n",
      "3    Thigh  659.497233\n",
      "4    Ankle  278.122051\n",
      "5   Biceps  368.637947\n",
      "6  Forearm  385.102038\n",
      "7      BMI   10.705516\n"
     ]
    }
   ],
   "source": [
    "from statsmodels.stats.outliers_influence import variance_inflation_factor\n",
    "vif = pd.DataFrame()\n",
    "vif[\"Variable\"] = df_vif.columns\n",
    "vif[\"VIF\"] = [variance_inflation_factor(df_vif, i) for i in range(df_vif.shape[1])]\n",
    "\n",
    "# Print the VIF values\n",
    "print(vif)"
   ]
  },
  {
   "cell_type": "code",
   "execution_count": 81,
   "id": "9a259057",
   "metadata": {},
   "outputs": [],
   "source": [
    "df_vif=df_vif.drop([\"Thigh\"],axis=1)"
   ]
  },
  {
   "cell_type": "code",
   "execution_count": 82,
   "id": "e117d8fa",
   "metadata": {},
   "outputs": [
    {
     "name": "stdout",
     "output_type": "stream",
     "text": [
      "  Variable         VIF\n",
      "0  Density  252.091498\n",
      "1      Age   16.201909\n",
      "2  Abdomen  199.842616\n",
      "3    Ankle  270.406127\n",
      "4   Biceps  319.896911\n",
      "5  Forearm  385.057051\n",
      "6      BMI   10.207173\n"
     ]
    }
   ],
   "source": [
    "\n",
    "vif = pd.DataFrame()\n",
    "vif[\"Variable\"] = df_vif.columns\n",
    "vif[\"VIF\"] = [variance_inflation_factor(df_vif, i) for i in range(df_vif.shape[1])]\n",
    "\n",
    "# Print the VIF values\n",
    "print(vif)"
   ]
  },
  {
   "cell_type": "code",
   "execution_count": 84,
   "id": "c8f0bd09",
   "metadata": {},
   "outputs": [],
   "source": [
    "df_vif=df_vif.drop([\"Forearm\"],axis=1)"
   ]
  },
  {
   "cell_type": "code",
   "execution_count": 85,
   "id": "31bd49af",
   "metadata": {},
   "outputs": [
    {
     "name": "stdout",
     "output_type": "stream",
     "text": [
      "  Variable         VIF\n",
      "0  Density  192.969019\n",
      "1      Age   16.102071\n",
      "2  Abdomen  195.422208\n",
      "3    Ankle  267.246166\n",
      "4   Biceps  249.042700\n",
      "5      BMI   10.204080\n"
     ]
    }
   ],
   "source": [
    "\n",
    "vif = pd.DataFrame()\n",
    "vif[\"Variable\"] = df_vif.columns\n",
    "vif[\"VIF\"] = [variance_inflation_factor(df_vif, i) for i in range(df_vif.shape[1])]\n",
    "\n",
    "# Print the VIF values\n",
    "print(vif)"
   ]
  },
  {
   "cell_type": "code",
   "execution_count": 87,
   "id": "40f80501",
   "metadata": {},
   "outputs": [],
   "source": [
    "df_vif=df_vif[[\"Density\",\"Age\",\"BMI\",\"Abdomen\"]]"
   ]
  },
  {
   "cell_type": "code",
   "execution_count": 89,
   "id": "2db126bf",
   "metadata": {},
   "outputs": [
    {
     "name": "stdout",
     "output_type": "stream",
     "text": [
      "  Variable        VIF\n",
      "0  Density  61.382582\n",
      "1      Age  14.491944\n",
      "2      BMI  10.193092\n",
      "3  Abdomen  80.735169\n"
     ]
    }
   ],
   "source": [
    "\n",
    "vif = pd.DataFrame()\n",
    "vif[\"Variable\"] = df_vif.columns\n",
    "vif[\"VIF\"] = [variance_inflation_factor(df_vif, i) for i in range(df_vif.shape[1])]\n",
    "\n",
    "# Print the VIF values\n",
    "print(vif)"
   ]
  },
  {
   "cell_type": "code",
   "execution_count": 90,
   "id": "b118ed89",
   "metadata": {},
   "outputs": [],
   "source": [
    "df_vif=df_vif.drop(\"Density\",axis=1)"
   ]
  },
  {
   "cell_type": "code",
   "execution_count": 91,
   "id": "3b69713e",
   "metadata": {},
   "outputs": [
    {
     "name": "stdout",
     "output_type": "stream",
     "text": [
      "  Variable        VIF\n",
      "0      Age  14.102633\n",
      "1      BMI  10.091878\n",
      "2  Abdomen  24.955184\n"
     ]
    }
   ],
   "source": [
    "vif = pd.DataFrame()\n",
    "vif[\"Variable\"] = df_vif.columns\n",
    "vif[\"VIF\"] = [variance_inflation_factor(df_vif, i) for i in range(df_vif.shape[1])]\n",
    "\n",
    "# Print the VIF values\n",
    "print(vif)"
   ]
  },
  {
   "cell_type": "code",
   "execution_count": 92,
   "id": "9d1280f2",
   "metadata": {},
   "outputs": [],
   "source": [
    "df_vif=df_vif.drop(\"Abdomen\",axis=1)"
   ]
  },
  {
   "cell_type": "code",
   "execution_count": 93,
   "id": "f95d1827",
   "metadata": {},
   "outputs": [
    {
     "name": "stdout",
     "output_type": "stream",
     "text": [
      "  Variable       VIF\n",
      "0      Age  5.665394\n",
      "1      BMI  5.665394\n"
     ]
    }
   ],
   "source": [
    "vif = pd.DataFrame()\n",
    "vif[\"Variable\"] = df_vif.columns\n",
    "vif[\"VIF\"] = [variance_inflation_factor(df_vif, i) for i in range(df_vif.shape[1])]\n",
    "\n",
    "# Print the VIF values\n",
    "print(vif)"
   ]
  },
  {
   "cell_type": "code",
   "execution_count": 96,
   "id": "2a18b0ea",
   "metadata": {},
   "outputs": [],
   "source": [
    "X=df1[[\"Age\",\"BMI\"]]\n",
    "Y=df1[\"BodyFat\"]"
   ]
  },
  {
   "cell_type": "code",
   "execution_count": 100,
   "id": "f24d4a49",
   "metadata": {},
   "outputs": [
    {
     "name": "stdout",
     "output_type": "stream",
     "text": [
      "Mean Squared Error: 53.379157789947605\n",
      "R2 score 0.3338800112860416\n"
     ]
    }
   ],
   "source": [
    "lr=LinearRegression()\n",
    "\n",
    "X_train,X_test,Y_train,Y_test=train_test_split(X,Y,test_size=.20,random_state=24)\n",
    "lr.fit(X_train,Y_train)\n",
    "y_pred=lr.predict(X_test)\n",
    "mse = mean_squared_error(Y_test, y_pred)\n",
    "print(\"Mean Squared Error:\", mse)\n",
    "print(\"R2 score\",r2_score(Y_test,y_pred))"
   ]
  },
  {
   "cell_type": "code",
   "execution_count": null,
   "id": "6c7f1ff9",
   "metadata": {},
   "outputs": [],
   "source": [
    "# vif is not working good We will use coorelation analysis for Feature Selection"
   ]
  },
  {
   "cell_type": "code",
   "execution_count": 103,
   "id": "dee14466",
   "metadata": {},
   "outputs": [],
   "source": [
    "X=df[[\"Age\",\"Chest\",\"Neck\",\"BMI\",\"Abdomen\"]]\n",
    "Y=df[\"BodyFat\"]"
   ]
  },
  {
   "cell_type": "code",
   "execution_count": 117,
   "id": "8d916427",
   "metadata": {},
   "outputs": [
    {
     "name": "stdout",
     "output_type": "stream",
     "text": [
      "Mean Squared Error: 14.790826129244065\n",
      "R2 score 0.8154248710132778\n"
     ]
    }
   ],
   "source": [
    "# Lets Try Linear Regression\n",
    "lr1=LinearRegression()\n",
    "\n",
    "X_train,X_test,Y_train,Y_test=train_test_split(X,Y,test_size=.20,random_state=24)\n",
    "lr1.fit(X_train,Y_train)\n",
    "y_pred=lr1.predict(X_test)\n",
    "mse = mean_squared_error(Y_test, y_pred)\n",
    "print(\"Mean Squared Error:\", mse)\n",
    "print(\"R2 score\",r2_score(Y_test,y_pred))"
   ]
  },
  {
   "cell_type": "code",
   "execution_count": 112,
   "id": "19b93d84",
   "metadata": {},
   "outputs": [
    {
     "name": "stdout",
     "output_type": "stream",
     "text": [
      "Mean Squared Error: 20.819945359385866\n",
      "R2 Score: 0.7401873251280281\n"
     ]
    }
   ],
   "source": [
    "# Lets Try Decision Tree\n",
    "from sklearn.tree import DecisionTreeRegressor\n",
    "\n",
    "X_train, X_test, y_train, y_test = train_test_split(X, Y, test_size=0.2, random_state=24)\n",
    "\n",
    "model_dt = DecisionTreeRegressor(\n",
    "    max_depth=3,  # maximum depth of the decision tree\n",
    "    random_state=10\n",
    ")\n",
    "\n",
    "model_dt.fit(X_train, Y_train)\n",
    "\n",
    "y_pred = model_dt.predict(X_test)\n",
    "\n",
    "mse = mean_squared_error(Y_test, y_pred)\n",
    "r2_score_dt = r2_score(Y_test, y_pred)\n",
    "\n",
    "print(\"Mean Squared Error:\", mse)\n",
    "print(\"R2 Score:\", r2_score_dt)\n"
   ]
  },
  {
   "cell_type": "code",
   "execution_count": 113,
   "id": "dbe59bf3",
   "metadata": {},
   "outputs": [
    {
     "name": "stdout",
     "output_type": "stream",
     "text": [
      "Mean Squared Error: 18.395756843137267\n",
      "R2 Score 0.7704388407746111\n"
     ]
    }
   ],
   "source": [
    "# Lets try Random Forest regressor\n",
    "from sklearn.ensemble import RandomForestRegressor\n",
    "X_train,X_test,Y_train,Y_test=train_test_split(X,Y,test_size=.20,random_state=24)\n",
    "rf=RandomForestRegressor()\n",
    "rf.fit(X_train,Y_train)\n",
    "y_pred_rf=rf.predict(X_test)\n",
    "mse = mean_squared_error(Y_test, y_pred_rf)\n",
    "print(\"Mean Squared Error:\", mse)\n",
    "print(\"R2 Score\",r2_score(Y_test, y_pred_rf))"
   ]
  },
  {
   "cell_type": "code",
   "execution_count": 114,
   "id": "6a8c1bfd",
   "metadata": {},
   "outputs": [
    {
     "name": "stdout",
     "output_type": "stream",
     "text": [
      "R2 Score 0.7846060172263474\n",
      "Mean Squared Error: 17.260477974362775\n"
     ]
    }
   ],
   "source": [
    "# Lets apply Xg Boost Regressor\n",
    "import xgboost as xgb\n",
    "X=df[[\"Age\",\"Chest\",\"Neck\",\"BMI\",\"Abdomen\"]]\n",
    "Y=df[\"BodyFat\"]\n",
    "X_train,X_test,Y_train,Y_test=train_test_split(X,Y,test_size=.20,random_state=24)\n",
    "model_xb = xgb.XGBRegressor(\n",
    "    n_estimators=30,  # number of boosting rounds (trees)\n",
    "    max_depth=3,  # maximum depth of each tree\n",
    "    learning_rate=0.1,  # learning rate (shrinkage) to prevent overfitting\n",
    "    random_state=10\n",
    ")\n",
    "model_xb.fit(X_train, Y_train)\n",
    "y_pred_xb = model_xb.predict(X_test)\n",
    "r2_score_xb=r2_score(Y_test, y_pred_xb)\n",
    "print(\"R2 Score\",r2_score_xb)\n",
    "mse = mean_squared_error(Y_test, y_pred_xb)\n",
    "print(\"Mean Squared Error:\", mse)\n"
   ]
  },
  {
   "cell_type": "code",
   "execution_count": 115,
   "id": "5303ec4a",
   "metadata": {},
   "outputs": [
    {
     "name": "stdout",
     "output_type": "stream",
     "text": [
      "Mean Squared Error: 17.157334350689286\n",
      "R2 Score: 0.7858931493633449\n"
     ]
    }
   ],
   "source": [
    "import lightgbm as lgb\n",
    "\n",
    "X_train, X_test, y_train, y_test = train_test_split(X, Y, test_size=0.2, random_state=24)\n",
    "\n",
    "model_lgb = lgb.LGBMRegressor(\n",
    "    n_estimators=30,  # number of boosting rounds (trees)\n",
    "    max_depth=3,  # maximum depth of each tree\n",
    "    learning_rate=0.1,  # learning rate (shrinkage) to prevent overfitting\n",
    "    random_state=42\n",
    ")\n",
    "\n",
    "model_lgb.fit(X_train, Y_train)\n",
    "\n",
    "\n",
    "y_pred = model_lgb.predict(X_test)\n",
    "\n",
    "mse = mean_squared_error(y_test, y_pred)\n",
    "r2_score_lgb = r2_score(y_test, y_pred)\n",
    "\n",
    "print(\"Mean Squared Error:\", mse)\n",
    "print(\"R2 Score:\", r2_score_lgb)\n"
   ]
  },
  {
   "cell_type": "code",
   "execution_count": 116,
   "id": "693ff938",
   "metadata": {},
   "outputs": [
    {
     "name": "stdout",
     "output_type": "stream",
     "text": [
      "0:\tlearn: 7.9108410\ttotal: 293ms\tremaining: 29s\n",
      "1:\tlearn: 7.5420415\ttotal: 294ms\tremaining: 14.4s\n",
      "2:\tlearn: 7.2190438\ttotal: 295ms\tremaining: 9.53s\n",
      "3:\tlearn: 6.9260932\ttotal: 296ms\tremaining: 7.09s\n",
      "4:\tlearn: 6.6848405\ttotal: 296ms\tremaining: 5.63s\n",
      "5:\tlearn: 6.4912312\ttotal: 297ms\tremaining: 4.65s\n",
      "6:\tlearn: 6.2685171\ttotal: 298ms\tremaining: 3.96s\n",
      "7:\tlearn: 6.1106884\ttotal: 298ms\tremaining: 3.43s\n",
      "8:\tlearn: 5.9498047\ttotal: 299ms\tremaining: 3.02s\n",
      "9:\tlearn: 5.7868944\ttotal: 300ms\tremaining: 2.7s\n",
      "10:\tlearn: 5.6821580\ttotal: 300ms\tremaining: 2.43s\n",
      "11:\tlearn: 5.5809452\ttotal: 301ms\tremaining: 2.21s\n",
      "12:\tlearn: 5.4847212\ttotal: 302ms\tremaining: 2.02s\n",
      "13:\tlearn: 5.3981800\ttotal: 302ms\tremaining: 1.86s\n",
      "14:\tlearn: 5.3039119\ttotal: 303ms\tremaining: 1.72s\n",
      "15:\tlearn: 5.2510810\ttotal: 304ms\tremaining: 1.59s\n",
      "16:\tlearn: 5.1696096\ttotal: 305ms\tremaining: 1.49s\n",
      "17:\tlearn: 5.1199434\ttotal: 305ms\tremaining: 1.39s\n",
      "18:\tlearn: 5.0732506\ttotal: 306ms\tremaining: 1.3s\n",
      "19:\tlearn: 5.0273624\ttotal: 307ms\tremaining: 1.23s\n",
      "20:\tlearn: 4.9880044\ttotal: 307ms\tremaining: 1.16s\n",
      "21:\tlearn: 4.9364325\ttotal: 308ms\tremaining: 1.09s\n",
      "22:\tlearn: 4.8892831\ttotal: 309ms\tremaining: 1.03s\n",
      "23:\tlearn: 4.8517434\ttotal: 309ms\tremaining: 979ms\n",
      "24:\tlearn: 4.8024321\ttotal: 310ms\tremaining: 930ms\n",
      "25:\tlearn: 4.7719382\ttotal: 311ms\tremaining: 884ms\n",
      "26:\tlearn: 4.7464444\ttotal: 311ms\tremaining: 842ms\n",
      "27:\tlearn: 4.7122786\ttotal: 312ms\tremaining: 802ms\n",
      "28:\tlearn: 4.6949822\ttotal: 313ms\tremaining: 765ms\n",
      "29:\tlearn: 4.6604621\ttotal: 313ms\tremaining: 731ms\n",
      "30:\tlearn: 4.6294201\ttotal: 314ms\tremaining: 699ms\n",
      "31:\tlearn: 4.6059988\ttotal: 315ms\tremaining: 669ms\n",
      "32:\tlearn: 4.5755372\ttotal: 315ms\tremaining: 640ms\n",
      "33:\tlearn: 4.5509428\ttotal: 316ms\tremaining: 613ms\n",
      "34:\tlearn: 4.5319277\ttotal: 317ms\tremaining: 588ms\n",
      "35:\tlearn: 4.5145200\ttotal: 317ms\tremaining: 564ms\n",
      "36:\tlearn: 4.4907775\ttotal: 318ms\tremaining: 542ms\n",
      "37:\tlearn: 4.4689257\ttotal: 320ms\tremaining: 521ms\n",
      "38:\tlearn: 4.4617748\ttotal: 320ms\tremaining: 501ms\n",
      "39:\tlearn: 4.4412966\ttotal: 322ms\tremaining: 482ms\n",
      "40:\tlearn: 4.4276069\ttotal: 322ms\tremaining: 464ms\n",
      "41:\tlearn: 4.4125775\ttotal: 323ms\tremaining: 447ms\n",
      "42:\tlearn: 4.3941437\ttotal: 324ms\tremaining: 430ms\n",
      "43:\tlearn: 4.3721940\ttotal: 326ms\tremaining: 414ms\n",
      "44:\tlearn: 4.3502527\ttotal: 327ms\tremaining: 399ms\n",
      "45:\tlearn: 4.3371420\ttotal: 328ms\tremaining: 385ms\n",
      "46:\tlearn: 4.3238895\ttotal: 329ms\tremaining: 370ms\n",
      "47:\tlearn: 4.3147686\ttotal: 330ms\tremaining: 357ms\n",
      "48:\tlearn: 4.3097275\ttotal: 331ms\tremaining: 344ms\n",
      "49:\tlearn: 4.2955911\ttotal: 331ms\tremaining: 331ms\n",
      "50:\tlearn: 4.2876109\ttotal: 332ms\tremaining: 319ms\n",
      "51:\tlearn: 4.2744698\ttotal: 333ms\tremaining: 308ms\n",
      "52:\tlearn: 4.2681727\ttotal: 334ms\tremaining: 296ms\n",
      "53:\tlearn: 4.2498293\ttotal: 335ms\tremaining: 286ms\n",
      "54:\tlearn: 4.2348712\ttotal: 336ms\tremaining: 275ms\n",
      "55:\tlearn: 4.2270888\ttotal: 337ms\tremaining: 265ms\n",
      "56:\tlearn: 4.2226488\ttotal: 338ms\tremaining: 255ms\n",
      "57:\tlearn: 4.2187947\ttotal: 339ms\tremaining: 246ms\n",
      "58:\tlearn: 4.2139304\ttotal: 340ms\tremaining: 236ms\n",
      "59:\tlearn: 4.2054575\ttotal: 341ms\tremaining: 227ms\n",
      "60:\tlearn: 4.2010096\ttotal: 342ms\tremaining: 219ms\n",
      "61:\tlearn: 4.1928626\ttotal: 343ms\tremaining: 210ms\n",
      "62:\tlearn: 4.1793331\ttotal: 344ms\tremaining: 202ms\n",
      "63:\tlearn: 4.1601265\ttotal: 345ms\tremaining: 194ms\n",
      "64:\tlearn: 4.1384540\ttotal: 346ms\tremaining: 186ms\n",
      "65:\tlearn: 4.1228513\ttotal: 347ms\tremaining: 179ms\n",
      "66:\tlearn: 4.1191484\ttotal: 348ms\tremaining: 171ms\n",
      "67:\tlearn: 4.1145000\ttotal: 349ms\tremaining: 164ms\n",
      "68:\tlearn: 4.1072169\ttotal: 350ms\tremaining: 157ms\n",
      "69:\tlearn: 4.1023620\ttotal: 351ms\tremaining: 150ms\n",
      "70:\tlearn: 4.0788683\ttotal: 352ms\tremaining: 144ms\n",
      "71:\tlearn: 4.0741147\ttotal: 353ms\tremaining: 137ms\n",
      "72:\tlearn: 4.0697357\ttotal: 354ms\tremaining: 131ms\n",
      "73:\tlearn: 4.0387772\ttotal: 354ms\tremaining: 125ms\n",
      "74:\tlearn: 4.0349268\ttotal: 356ms\tremaining: 119ms\n",
      "75:\tlearn: 4.0321562\ttotal: 357ms\tremaining: 113ms\n",
      "76:\tlearn: 4.0185912\ttotal: 357ms\tremaining: 107ms\n",
      "77:\tlearn: 4.0154834\ttotal: 358ms\tremaining: 101ms\n",
      "78:\tlearn: 3.9931798\ttotal: 359ms\tremaining: 95.5ms\n",
      "79:\tlearn: 3.9813540\ttotal: 360ms\tremaining: 90.1ms\n",
      "80:\tlearn: 3.9776370\ttotal: 361ms\tremaining: 84.8ms\n",
      "81:\tlearn: 3.9731694\ttotal: 362ms\tremaining: 79.5ms\n",
      "82:\tlearn: 3.9616872\ttotal: 363ms\tremaining: 74.4ms\n",
      "83:\tlearn: 3.9580828\ttotal: 364ms\tremaining: 69.4ms\n",
      "84:\tlearn: 3.9297400\ttotal: 365ms\tremaining: 64.5ms\n",
      "85:\tlearn: 3.9261635\ttotal: 366ms\tremaining: 59.6ms\n",
      "86:\tlearn: 3.9227532\ttotal: 367ms\tremaining: 54.9ms\n",
      "87:\tlearn: 3.9203163\ttotal: 368ms\tremaining: 50.2ms\n",
      "88:\tlearn: 3.8969594\ttotal: 369ms\tremaining: 45.6ms\n",
      "89:\tlearn: 3.8797822\ttotal: 370ms\tremaining: 41.1ms\n",
      "90:\tlearn: 3.8583932\ttotal: 371ms\tremaining: 36.7ms\n",
      "91:\tlearn: 3.8543652\ttotal: 372ms\tremaining: 32.4ms\n",
      "92:\tlearn: 3.8393199\ttotal: 373ms\tremaining: 28.1ms\n",
      "93:\tlearn: 3.8372734\ttotal: 374ms\tremaining: 23.9ms\n",
      "94:\tlearn: 3.8343813\ttotal: 375ms\tremaining: 19.7ms\n",
      "95:\tlearn: 3.8312854\ttotal: 376ms\tremaining: 15.7ms\n",
      "96:\tlearn: 3.8159094\ttotal: 377ms\tremaining: 11.7ms\n",
      "97:\tlearn: 3.8130785\ttotal: 378ms\tremaining: 7.71ms\n",
      "98:\tlearn: 3.7977483\ttotal: 379ms\tremaining: 3.83ms\n",
      "99:\tlearn: 3.7956423\ttotal: 380ms\tremaining: 0us\n",
      "Mean Squared Error: 19.195741687334813\n",
      "R2 Score: 0.7604558077435325\n"
     ]
    }
   ],
   "source": [
    "from catboost import CatBoostRegressor\n",
    "X_train, X_test, y_train, y_test = train_test_split(X, Y, test_size=0.2, random_state=24)\n",
    "\n",
    "model_cat = CatBoostRegressor(\n",
    "    iterations=100,  # number of boosting iterations (trees)\n",
    "    depth=3,  # maximum depth of each tree\n",
    "    learning_rate=0.1,  # learning rate (shrinkage) to prevent overfitting\n",
    "    random_state=42\n",
    ")\n",
    "\n",
    "model_cat.fit(X_train, Y_train)\n",
    "\n",
    "y_pred_cat = model_cat.predict(X_test)\n",
    "\n",
    "mse = mean_squared_error(Y_test, y_pred_cat)\n",
    "r2_score_cat = r2_score(Y_test, y_pred_cat)\n",
    "\n",
    "print(\"Mean Squared Error:\", mse)\n",
    "print(\"R2 Score:\", r2_score_cat)\n"
   ]
  },
  {
   "cell_type": "code",
   "execution_count": 118,
   "id": "eec3c0aa",
   "metadata": {},
   "outputs": [],
   "source": [
    "# save the model\n",
    "import pickle\n",
    "file = open(\"body_fat_model.pkl\", \"wb\")\n",
    "pickle.dump(lr1, file)\n",
    "file.close()"
   ]
  },
  {
   "cell_type": "code",
   "execution_count": 121,
   "id": "77e5b6e3",
   "metadata": {},
   "outputs": [],
   "source": [
    "# saving a dataframe\n",
    "with open('df.pkl', 'wb') as file:\n",
    "    pickle.dump(df1, file)"
   ]
  }
 ],
 "metadata": {
  "kernelspec": {
   "display_name": "Python 3 (ipykernel)",
   "language": "python",
   "name": "python3"
  },
  "language_info": {
   "codemirror_mode": {
    "name": "ipython",
    "version": 3
   },
   "file_extension": ".py",
   "mimetype": "text/x-python",
   "name": "python",
   "nbconvert_exporter": "python",
   "pygments_lexer": "ipython3",
   "version": "3.9.13"
  }
 },
 "nbformat": 4,
 "nbformat_minor": 5
}
